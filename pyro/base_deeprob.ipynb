{
 "cells": [
  {
   "cell_type": "markdown",
   "id": "9e875784-62f2-4fef-859b-72d735c282ad",
   "metadata": {},
   "source": [
    "# Testing PyStan and Pyro for base workflow"
   ]
  },
  {
   "cell_type": "code",
   "execution_count": null,
   "id": "433afdbb-55ea-4755-a894-9e9ab10c06a0",
   "metadata": {},
   "outputs": [],
   "source": [
    "# Uncomment to install\n",
    "!pip install pyro-ppl \"pystan<3\""
   ]
  },
  {
   "cell_type": "code",
   "execution_count": 26,
   "id": "6eb199c2-9ae6-4850-8fc4-ce07ee265a67",
   "metadata": {},
   "outputs": [],
   "source": [
    "# pystan\n",
    "import pystan"
   ]
  },
  {
   "cell_type": "code",
   "execution_count": 27,
   "id": "d8773ab2-4b9f-4a46-8c44-e2a7b9e7be8e",
   "metadata": {},
   "outputs": [],
   "source": [
    "# pyro-ppl\n",
    "import pyro\n",
    "import pyro.distributions as dist\n",
    "from pyro.infer.mcmc import MCMC, HMC, NUTS\n",
    "from pyro.infer import SVI, Trace_ELBO\n",
    "from pyro.optim import Adam"
   ]
  },
  {
   "cell_type": "code",
   "execution_count": 28,
   "id": "5c9d8381-6ce8-4cda-b7cd-3780a4deaa53",
   "metadata": {},
   "outputs": [],
   "source": [
    "# torch\n",
    "import torch\n",
    "from torch import Tensor\n",
    "import torch.nn as nn\n",
    "import torch.nn.functional as F\n",
    "import torch.optim as optim\n",
    "from torch.utils.data import DataLoader, TensorDataset\n",
    "import torch.distributions.constraints as constraints"
   ]
  },
  {
   "cell_type": "code",
   "execution_count": 29,
   "id": "1f062280-e681-4816-80ca-5f502d8a62a6",
   "metadata": {},
   "outputs": [],
   "source": [
    "# stats and standard\n",
    "import numpy as np\n",
    "import pandas as pd\n",
    "import scipy.stats as stats\n",
    "from statsmodels.distributions.empirical_distribution import ECDF\n",
    "from sklearn.model_selection import GridSearchCV, ShuffleSplit\n",
    "import scipy.stats.kde as kde"
   ]
  },
  {
   "cell_type": "code",
   "execution_count": 39,
   "id": "eec7973d-4c38-4560-85a7-9311534b5cd5",
   "metadata": {},
   "outputs": [],
   "source": [
    "# high-performance\n",
    "import dask\n",
    "import arrow\n",
    "import jax.numpy as jnp\n",
    "from jax import random, pmap"
   ]
  },
  {
   "cell_type": "markdown",
   "id": "7efe3a1b-1a95-4a65-bd79-b0cc7688d20c",
   "metadata": {},
   "source": [
    "# MCMC samples from Stan"
   ]
  },
  {
   "cell_type": "code",
   "execution_count": 32,
   "id": "562fe8f2-b450-4276-960d-5d5a0344fe29",
   "metadata": {},
   "outputs": [],
   "source": [
    "# setting up data\n",
    "theta = 0.6\n",
    "n = 1000\n",
    "y = stats.bernoulli.rvs(theta, size=n)"
   ]
  },
  {
   "cell_type": "code",
   "execution_count": 33,
   "id": "9b69d398-4b43-4ddd-bec6-1e0a04156172",
   "metadata": {},
   "outputs": [],
   "source": [
    "# stan model definition\n",
    "model_code = \"\"\"\n",
    "data {\n",
    "    int<lower=0> n;\n",
    "    int y[n];\n",
    "}\n",
    "parameters {\n",
    "    real<lower=0, upper=1> theta;\n",
    "}\n",
    "model {\n",
    "    // model likelihood:\n",
    "    y ~ bernoulli(theta);\n",
    "    // model prior:\n",
    "    theta ~ beta(0.5, 0.5);\n",
    "}\n",
    "\"\"\""
   ]
  },
  {
   "cell_type": "code",
   "execution_count": 34,
   "id": "f4236d0f-a4e3-4e2b-8f8d-a76c1cc99170",
   "metadata": {},
   "outputs": [
    {
     "name": "stderr",
     "output_type": "stream",
     "text": [
      "INFO:pystan:COMPILING THE C++ CODE FOR MODEL anon_model_0dceae92b86d1c822297182f28329dd9 NOW.\n"
     ]
    }
   ],
   "source": [
    "#compile model\n",
    "stan_model = pystan.StanModel(model_code=model_code)"
   ]
  },
  {
   "cell_type": "code",
   "execution_count": 35,
   "id": "76eef74a-bdff-42f2-aada-590a941ad31b",
   "metadata": {},
   "outputs": [],
   "source": [
    "#model fit sampling\n",
    "data_dict = {'y' : y, 'n' : n}\n",
    "fit = stan_model.sampling(data=data_dict, iter=1000, chains=4)"
   ]
  },
  {
   "cell_type": "code",
   "execution_count": 36,
   "id": "be43a3b0-7634-4901-9d04-141f8887175a",
   "metadata": {},
   "outputs": [],
   "source": [
    "#samples\n",
    "theta = fit.extract(permuted=True)['theta']"
   ]
  },
  {
   "cell_type": "code",
   "execution_count": 45,
   "id": "0bb73581-30af-4941-856c-6e88df30b6cd",
   "metadata": {},
   "outputs": [
    {
     "name": "stdout",
     "output_type": "stream",
     "text": [
      "Samples: [0.61111193 0.59845556 0.60859396 0.5940438  0.62126958 0.61966241\n",
      " 0.59539719 0.58755612 0.65078529 0.62099168]\n",
      "Mean: 0.6089436\n",
      "Standard deviation: 0.015051828\n"
     ]
    }
   ],
   "source": [
    "#print and plot\n",
    "print(\"Samples:\", theta[:10])\n",
    "print(\"Mean:\", jnp.mean(theta, axis=0))\n",
    "print(\"Standard deviation:\", jnp.std(theta, axis=0))"
   ]
  },
  {
   "cell_type": "code",
   "execution_count": 52,
   "id": "52f6c7fd-603a-4260-b985-a2ebfdec5fad",
   "metadata": {},
   "outputs": [
    {
     "data": {
      "text/plain": [
       "[<matplotlib.lines.Line2D at 0x7f6660ed2910>]"
      ]
     },
     "execution_count": 52,
     "metadata": {},
     "output_type": "execute_result"
    },
    {
     "data": {
      "image/png": "[encoded data removed]",
      "text/plain": [
       "<Figure size 432x288 with 4 Axes>"
      ]
     },
     "metadata": {
      "needs_background": "light"
     },
     "output_type": "display_data"
    }
   ],
   "source": [
    "# histogram\n",
    "_, ax = plt.subplots(2, 2)\n",
    "ax[0, 0].hist(theta, 15)\n",
    "ax[0, 1].hist(theta, 30)\n",
    "# empirical cumulative distribution\n",
    "ecdf = ECDF(theta)\n",
    "ax[1, 0].plot(ecdf.x, ecdf.y)\n",
    "# density estimation using KDE (with tuning parameter chosen 3 fold CV)\n",
    "params_kde = {'bandwidth' : np.logspace(-2, 3, 10)}\n",
    "grid = GridSearchCV(KernelDensity(), params_kde, cv=3)\n",
    "grid.fit(theta.reshape(-1, 1))\n",
    "x_kde = np.linspace(0, 1, 10000).reshape(-1, 1)\n",
    "y_kde = np.exp(grid.best_estimator_.score_samples(x_kde))\n",
    "ax[1, 1].plot(x_kde, y_kde)"
   ]
  },
  {
   "cell_type": "markdown",
   "id": "4bf0e112-b60d-4e5b-9de7-a6553a921e6b",
   "metadata": {},
   "source": [
    "# MCMC samples from Pyro"
   ]
  },
  {
   "cell_type": "code",
   "execution_count": 85,
   "id": "37e5ea01-4a76-4bff-a202-eaf3840b6430",
   "metadata": {},
   "outputs": [],
   "source": [
    "# data\n",
    "y_tensor = torch.as_tensor(y, dtype=torch.float32)"
   ]
  },
  {
   "cell_type": "code",
   "execution_count": 88,
   "id": "2eb9e4b2-52b0-4c9a-9d81-bd77f3d99ca8",
   "metadata": {},
   "outputs": [],
   "source": [
    "# model pyro\n",
    "\n",
    "def model(y_tensor):\n",
    "    prior_dist = dist.Beta(torch.Tensor([.5]), torch.Tensor([.5]))\n",
    "    theta = pyro.sample('theta', prior_dist)\n",
    "    with pyro.plate('observed_data'):\n",
    "        pyro.sample('obs', dist.Bernoulli(theta), obs=y_tensor)"
   ]
  },
  {
   "cell_type": "code",
   "execution_count": 89,
   "id": "073e16db-b9cd-4e53-9eb5-4dbcef763c42",
   "metadata": {},
   "outputs": [
    {
     "name": "stderr",
     "output_type": "stream",
     "text": [
      "Warmup:   0%|          | 0/800 [14:30:37, ?it/s]\n",
      "Sample: 100%|██████████| 800/800 [00:10, 75.39it/s, step size=8.23e-01, acc. prob=0.945] \n"
     ]
    }
   ],
   "source": [
    "# Use NUTS or HMC sampler\n",
    "nuts_kernel = NUTS(model, adapt_step_size=True)\n",
    "mcmc = MCMC(nuts_kernel, num_samples=500, warmup_steps=300)\n",
    "mcmc.run(y_tensor)"
   ]
  },
  {
   "cell_type": "code",
   "execution_count": 66,
   "id": "fa2369a3-8585-4c9d-a62f-9603f0d1e32f",
   "metadata": {},
   "outputs": [],
   "source": [
    "# samples\n",
    "posterior_simulations = mcmc.get_samples()['theta'].numpy().ravel()"
   ]
  },
  {
   "cell_type": "code",
   "execution_count": 67,
   "id": "71ef7fff-573f-4009-80bd-945bc50b92ce",
   "metadata": {},
   "outputs": [
    {
     "name": "stdout",
     "output_type": "stream",
     "text": [
      "Some samples: [0.61350656 0.61331743 0.61367345 0.61359006 0.61379653 0.6136473 ]\n",
      "Mean: 0.61009777\n",
      "Standard deviation: 0.0020661987\n"
     ]
    }
   ],
   "source": [
    "# print\n",
    "print(\"Some samples:\", posterior_simulations[:6])\n",
    "print(\"Mean:\", posterior_simulations.mean())\n",
    "print(\"Standard deviation:\", posterior_simulations.std())"
   ]
  },
  {
   "cell_type": "markdown",
   "id": "4cca063b-e4b5-4176-ad13-ed445a0602e4",
   "metadata": {},
   "source": [
    "# Replications of data from MCMC samples"
   ]
  },
  {
   "cell_type": "code",
   "execution_count": 59,
   "id": "72aedebe-fd4f-4bf4-9806-87b4f07ba683",
   "metadata": {},
   "outputs": [],
   "source": [
    "replication = stats.bernoulli.rvs(posterior_simulations)"
   ]
  },
  {
   "cell_type": "code",
   "execution_count": 68,
   "id": "48ba75f4-7b77-4b93-a7a4-a88093d38993",
   "metadata": {},
   "outputs": [
    {
     "name": "stdout",
     "output_type": "stream",
     "text": [
      "P(Y=0|D) =  0.382\n",
      "P(Y=1|D) =  0.618\n"
     ]
    }
   ],
   "source": [
    "print(\"P(Y=0|D) = \", (replications == 0).mean())\n",
    "print(\"P(Y=1|D) = \", (replications == 1).mean())"
   ]
  },
  {
   "cell_type": "markdown",
   "id": "c65bf552-932c-45f9-9471-26b28a991455",
   "metadata": {},
   "source": [
    "# Stochastic variational inference in Pyro for ABC"
   ]
  },
  {
   "cell_type": "code",
   "execution_count": 69,
   "id": "98c7af32-8b85-4015-a405-ee45db6f1d14",
   "metadata": {},
   "outputs": [],
   "source": [
    "# defining guide (inference parameters) for the model defined above\n",
    "def guide(y_tensor):\n",
    "    alpha = pyro.param(\"alpha\", torch.Tensor([1.0]),\n",
    "                      constraint=constraints.positive)\n",
    "    beta = pyro.param(\"beta\", torch.Tensor([1.0]),\n",
    "                     constraint=constraints.positive)\n",
    "    theta = pyro.sample('theta', dist.Beta(alpha, beta))"
   ]
  },
  {
   "cell_type": "code",
   "execution_count": 70,
   "id": "c3c9ce7a-8682-40d5-98d9-90ac5dfd7995",
   "metadata": {},
   "outputs": [],
   "source": [
    "# Setting up optimizer for inference\n",
    "pyro.clear_param_store()\n",
    "adam_params = {\"lr\": 0.2, \"betas\": (0.9, 0.999)}\n",
    "optimizer = Adam(adam_params)"
   ]
  },
  {
   "cell_type": "code",
   "execution_count": 74,
   "id": "259d6816-7948-40bb-a600-6f4f67414bd7",
   "metadata": {},
   "outputs": [],
   "source": [
    "# Setting up SVI\n",
    "svi_abc = SVI(model, guide, optimizer, loss=Trace_ELBO())\n",
    "# gradient steps\n",
    "n_steps = 100\n",
    "for step in range(n_steps):\n",
    "    svi.step(y_tensor)"
   ]
  },
  {
   "cell_type": "code",
   "execution_count": 75,
   "id": "7990398f-3f03-49b3-9450-cfce909f0033",
   "metadata": {},
   "outputs": [],
   "source": [
    "# pyro parameters\n",
    "alpha = pyro.param(\"alpha\").item()\n",
    "beta = pyro.param(\"beta\").item()"
   ]
  },
  {
   "cell_type": "code",
   "execution_count": 76,
   "id": "71f5f749-fc3c-4f84-ae66-19d8cffdb670",
   "metadata": {},
   "outputs": [],
   "source": [
    "# distribution from samples\n",
    "inf_distribution = stats.beta(alpha, beta)"
   ]
  },
  {
   "cell_type": "code",
   "execution_count": 77,
   "id": "52e3937a-82e3-4dfd-a5d3-c411ab616f4a",
   "metadata": {},
   "outputs": [
    {
     "name": "stdout",
     "output_type": "stream",
     "text": [
      "Some samples: [0.67084975 0.6148679  0.73944176 0.70727039 0.60213527 0.57437472]\n",
      "Mean: 0.6289155085169171\n",
      "Standard deviation: 0.0694105727764976\n"
     ]
    }
   ],
   "source": [
    "print(\"Some samples:\", inf_distribution.rvs(6))\n",
    "print(\"Mean:\", inf_distribution.mean())\n",
    "print(\"Standard deviation:\", inf_distribution.std())"
   ]
  },
  {
   "cell_type": "code",
   "execution_count": 78,
   "id": "8f1c5a58-5cee-4260-9411-e0e422c51b73",
   "metadata": {},
   "outputs": [
    {
     "data": {
      "text/plain": [
       "[<matplotlib.lines.Line2D at 0x7f66607e1e50>]"
      ]
     },
     "execution_count": 78,
     "metadata": {},
     "output_type": "execute_result"
    },
    {
     "data": {
      "image/png": "[encoded data removed]",
      "text/plain": [
       "<Figure size 432x288 with 1 Axes>"
      ]
     },
     "metadata": {
      "needs_background": "light"
     },
     "output_type": "display_data"
    }
   ],
   "source": [
    "# plotting the posterior\n",
    "x_svi = np.linspace(0, 1, 10000)\n",
    "y_svi = inf_distribution.pdf(x_svi)\n",
    "plt.plot(x_svi, y_svi)\n"
   ]
  },
  {
   "cell_type": "code",
   "execution_count": 79,
   "id": "23e5d320-4cc7-4b3f-a1ac-7342c67357de",
   "metadata": {},
   "outputs": [
    {
     "name": "stdout",
     "output_type": "stream",
     "text": [
      "--------------------------------------------------\n",
      "P(Y=0|D) = 0.342\n",
      "P(Y=1|D) = 0.658\n"
     ]
    }
   ],
   "source": [
    "# replication check\n",
    "replications = stats.bernoulli.rvs(inf_distribution.rvs(1000))\n",
    "print(\"-\"*50)\n",
    "print(\"P(Y=0|D) =\", (replications == 0).mean())\n",
    "print(\"P(Y=1|D) =\", (replications == 1).mean())\n",
    "\n"
   ]
  }
 ],
 "metadata": {
  "kernelspec": {
   "display_name": "Python 3",
   "language": "python",
   "name": "python3"
  },
  "language_info": {
   "codemirror_mode": {
    "name": "ipython",
    "version": 3
   },
   "file_extension": ".py",
   "mimetype": "text/x-python",
   "name": "python",
   "nbconvert_exporter": "python",
   "pygments_lexer": "ipython3",
   "version": "3.7.10"
  }
 },
 "nbformat": 4,
 "nbformat_minor": 5
}
