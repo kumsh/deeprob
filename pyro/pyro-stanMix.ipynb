{
 "cells": [
  {
   "cell_type": "markdown",
   "metadata": {},
   "source": [
    "# Bayesian inference, Pyro, PyStan and VAEs\n",
    "\n",
    "In this section, we give some examples on how to work with variational autoencoders and Bayesian inference using Pyro and PyStan.\n",
    "\n",
   
    "This is meant to run using Nvidia CUDA processors. If you don't have a GPU installed in your computer, you can download this Jupyter notebook and upload it to [Google Colab](https://colab.research.google.com)."
   ]
  },
  {
   "cell_type": "code",
   "execution_count": null,
   "metadata": {},
   "outputs": [],
   "source": []
  },
  {
   "cell_type": "code",
   "execution_count": 1,
   "metadata": {
    "colab": {
     "base_uri": "https://localhost:8080/",
     "height": 187
    },
    "colab_type": "code",
    "id": "qOt-sj9JSJEU",
    "outputId": "db374f3d-20a6-4aa0-8497-42ded7eb0621"
   },
   "outputs": [
    {
     "name": "stdout",
     "output_type": "stream",
     "text": [
      "Collecting pystan<3\n",
      "  Using cached pystan-2.19.1.1-cp37-cp37m-manylinux1_x86_64.whl (67.3 MB)\n",
      "Requirement already satisfied: numpy>=1.7 in /home/kumesh/anaconda3/lib/python3.7/site-packages (from pystan<3) (1.19.5)\n",
      "Requirement already satisfied: Cython!=0.25.1,>=0.22 in /home/kumesh/anaconda3/lib/python3.7/site-packages (from pystan<3) (0.29.23)\n",
      "Installing collected packages: pystan\n",
      "  Attempting uninstall: pystan\n",
      "    Found existing installation: pystan 3.1.1\n",
      "    Uninstalling pystan-3.1.1:\n",
      "      Successfully uninstalled pystan-3.1.1\n",
      "\u001b[31mERROR: pip's dependency resolver does not currently take into account all the packages that are installed. This behaviour is the source of the following dependency conflicts.\n",
      "fbprophet 0.7.1 requires cmdstanpy==0.9.5, which is not installed.\n",
      "fbprophet 0.7.1 requires setuptools-git>=1.2, which is not installed.\u001b[0m\n",
      "Successfully installed pystan-2.19.1.1\n"
     ]
    }
   ],
   "source": [
    "# Uncoment the line below to install pystan and pyro\n",
    "!pip install \"pystan<3\""
   ]
  },
  {
   "cell_type": "code",
   "execution_count": 1,
   "metadata": {
    "colab": {},
    "colab_type": "code",
    "id": "k6mZkupmSSRx"
   },
   "outputs": [],
   "source": [
    "import pyro\n",
    "import pyro.distributions as dist\n",
    "from pyro.infer.mcmc import MCMC, HMC, NUTS\n",
    "from pyro.optim import Adam\n",
    "from pyro.infer import SVI, Trace_ELBO\n",
    "import torch.distributions.constraints as constraints\n",
    "\n",
    "import pystan\n",
    "\n",
    "from statsmodels.distributions.empirical_distribution import ECDF\n",
    "from sklearn.neighbors import KernelDensity\n",
    "from sklearn.model_selection import GridSearchCV, ShuffleSplit\n",
    "import scipy.stats.kde as kde\n",
    "\n",
    "import numpy as np\n",
    "import scipy.stats as stats\n",
    "import pandas as pd\n",
    "\n",
    "import matplotlib.pyplot as plt\n",
    "import pandas as pd\n",
    "\n",
    "import torch\n",
    "from torch import Tensor\n",
    "import torch.nn as nn\n",
    "import torch.nn.functional as F\n",
    "import torch.optim as optim\n",
    "from torch.utils.data import DataLoader, TensorDataset\n",
    "\n",
    "%matplotlib inline"
   ]
  },
  {
   "cell_type": "code",
   "execution_count": 2,
   "metadata": {
    "colab": {},
    "colab_type": "code",
    "id": "iuXefrGrXSpa"
   },
   "outputs": [],
   "source": [
    "# Setup some data\n",
    "theta = 0.6\n",
    "n = 1000\n",
    "y = stats.bernoulli.rvs(theta, size=n)"
   ]
  },
  {
   "cell_type": "markdown",
   "metadata": {
    "colab_type": "text",
    "id": "Xs1w4UJwYj49"
   },
   "source": [
    "## Get MCMC samples for this model using Stan"
   ]
  },
  {
   "cell_type": "code",
   "execution_count": 3,
   "metadata": {
    "colab": {
     "base_uri": "https://localhost:8080/",
     "height": 34
    },
    "colab_type": "code",
    "id": "vJ5RL6khBrMg",
    "outputId": "22be7502-4167-450d-efe5-fa2c45c6419e"
   },
   "outputs": [
    {
     "name": "stderr",
     "output_type": "stream",
     "text": [
      "INFO:pystan:COMPILING THE C++ CODE FOR MODEL anon_model_cbff015f4398d041dc3dc90aad40531c NOW.\n"
     ]
    }
   ],
   "source": [
    "#Compile model\n",
    "\n",
    "model_code = \"\"\"\n",
    "data {\n",
    "    int<lower=0> n;\n",
    "    int y[n];\n",
    "}\n",
    "parameters {\n",
    "    real<lower=0, upper=1> theta;\n",
    "}\n",
    "model {\n",
    "    // likehood:\n",
    "    y ~ bernoulli(theta);\n",
    "    \n",
    "    // prior:\n",
    "    theta ~ beta(0.5, 0.5);\n",
    "}\n",
    "\"\"\"\n",
    "\n",
    "sm = pystan.StanModel(model_code=model_code)"
   ]
  },
  {
   "cell_type": "code",
   "execution_count": 4,
   "metadata": {
    "colab": {},
    "colab_type": "code",
    "id": "c_BJJVHhGJ_h"
   },
   "outputs": [],
   "source": [
    "# Sample model\n",
    "data_dict = {'y': y, 'n': n}\n",
    "fit = sm.sampling(data=data_dict, iter=1000, chains=4)"
   ]
  },
  {
   "cell_type": "code",
   "execution_count": 5,
   "metadata": {
    "colab": {
     "base_uri": "https://localhost:8080/",
     "height": 354
    },
    "colab_type": "code",
    "id": "AxBYSv1QDwqB",
    "outputId": "2aded813-3440-4a15-a8f3-cac6ce23108f"
   },
   "outputs": [
    {
     "name": "stdout",
     "output_type": "stream",
     "text": [
      "Some samples: [0.60787508 0.61294606 0.60779318 0.6198482  0.6322908  0.62482716\n",
      " 0.609725   0.64162814 0.6130148  0.61417091]\n",
      "Mean: 0.620723707592719\n",
      "Standard deviation: 0.015404598636616335\n"
     ]
    },
    {
     "data": {
      "text/plain": [
       "[<matplotlib.lines.Line2D at 0x7f67764eff50>]"
      ]
     },
     "execution_count": 5,
     "metadata": {},
     "output_type": "execute_result"
    },
    {
     "data": {
      "image/png": "[encoded data removed]",
      "text/plain": [
       "<Figure size 432x288 with 4 Axes>"
      ]
     },
     "metadata": {
      "needs_background": "light"
     },
     "output_type": "display_data"
    }
   ],
   "source": [
    "# Extract samples\n",
    "theta = fit.extract(permuted=True)['theta']\n",
    "\n",
    "# Print some statistics\n",
    "print(\"Some samples:\", theta[:10])\n",
    "print(\"Mean:\", np.mean(theta, axis=0))\n",
    "print(\"Standard deviation:\", np.std(theta, axis=0))\n",
    "\n",
    "# Prepare plots\n",
    "_, ax = plt.subplots(2, 2)\n",
    "\n",
    "# histograms\n",
    "# warning: for a caveat about using histogram see\n",
    "# https://stats.stackexchange.com/a/51753\n",
    "ax[0, 0].hist(theta, 15)\n",
    "ax[0, 1].hist(theta, 30)\n",
    "\n",
    "# Empirical cumulative distribution\n",
    "ecdf = ECDF(theta)\n",
    "ax[1, 0].plot(ecdf.x, ecdf.y)\n",
    "\n",
    "# Density estimation using KDE (with tuning parameter chosen by 3 fold CV)\n",
    "params_for_kde_cv = {'bandwidth': np.logspace(-2, 3, 10)}\n",
    "grid = GridSearchCV(KernelDensity(), params_for_kde_cv, cv=3)\n",
    "grid.fit(theta.reshape(-1, 1))\n",
    "x_kde = np.linspace(0, 1, 10000).reshape(-1, 1)\n",
    "y_kde = np.exp(grid.best_estimator_.score_samples(x_kde))\n",
    "ax[1, 1].plot(x_kde, y_kde)"
   ]
  },
  {
   "cell_type": "markdown",
   "metadata": {
    "colab_type": "text",
    "id": "gHrplkFWY3ld"
   },
   "source": [
    "## Get MCMC samples for this model using Pyro"
   ]
  },
  {
   "cell_type": "code",
   "execution_count": 6,
   "metadata": {
    "colab": {
     "base_uri": "https://localhost:8080/",
     "height": 34
    },
    "colab_type": "code",
    "id": "CZZUnlYYYRuj",
    "outputId": "d8c42569-ac1b-4960-b8cf-30984e882e14"
   },
   "outputs": [
    {
     "name": "stderr",
     "output_type": "stream",
     "text": [
      "Sample: 100%|██████████| 800/800 [00:05, 138.99it/s, step size=1.10e+00, acc. prob=0.897]\n"
     ]
    }
   ],
   "source": [
    "y_tensor = torch.as_tensor(y, dtype=torch.float32)\n",
    "\n",
    "def model(y_tensor):\n",
    "    prior_dist = dist.Beta(torch.Tensor([.5]), torch.Tensor([.5]))\n",
    "    theta = pyro.sample('theta', prior_dist)\n",
    "    with pyro.plate('observe_data'):\n",
    "        pyro.sample('obs', dist.Bernoulli(theta), obs=y_tensor)\n",
    "\n",
    "nuts_kernel = NUTS(model, adapt_step_size=True)\n",
    "mcmc = MCMC(nuts_kernel, num_samples=500, warmup_steps=300)\n",
    "mcmc.run(y_tensor)"
   ]
  },
  {
   "cell_type": "code",
   "execution_count": 7,
   "metadata": {},
   "outputs": [],
   "source": [
    "posterior_simulations = mcmc.get_samples()['theta'].numpy().ravel()"
   ]
  },
  {
   "cell_type": "code",
   "execution_count": 8,
   "metadata": {
    "colab": {
     "base_uri": "https://localhost:8080/",
     "height": 85
    },
    "colab_type": "code",
    "id": "liU25QagUqms",
    "outputId": "d7e9d217-f7ef-4e94-95b5-73ba1a354d4f"
   },
   "outputs": [
    {
     "name": "stdout",
     "output_type": "stream",
     "text": [
      "Some samples: [0.6433877  0.6354131  0.62047493 0.5863722  0.6222383  0.6293913 ]\n",
      "Mean: 0.6194563\n",
      "Standard deviation: 0.015305086\n"
     ]
    }
   ],
   "source": [
    "print(\"Some samples:\", posterior_simulations[:6])\n",
    "print(\"Mean:\", posterior_simulations.mean())\n",
    "print(\"Standard deviation:\", posterior_simulations.std())"
   ]
  },
  {
   "cell_type": "markdown",
   "metadata": {
    "colab_type": "text",
    "id": "OMfd4QjNnATb"
   },
   "source": [
    "## Get replications (new instances of similar to data) from MCMC samples"
   ]
  },
  {
   "cell_type": "code",
   "execution_count": 9,
   "metadata": {
    "colab": {
     "base_uri": "https://localhost:8080/",
     "height": 320
    },
    "colab_type": "code",
    "id": "o5BKWMvHnJK6",
    "outputId": "2ae0c157-a00f-49be-e641-2726f9d7b34b"
   },
   "outputs": [
    {
     "name": "stdout",
     "output_type": "stream",
     "text": [
      "P(Y=0|D) = 0.368\n",
      "P(Y=1|D) = 0.632\n"
     ]
    }
   ],
   "source": [
    "replications = stats.bernoulli.rvs(posterior_simulations)\n",
    "print(\"P(Y=0|D) =\", (replications == 0).mean())\n",
    "print(\"P(Y=1|D) =\", (replications == 1).mean())"
   ]
  },
  {
   "cell_type": "markdown",
   "metadata": {},
   "source": [
    "## Get Bayesian credibility (HPD) intervals"
   ]
  },
  {
   "cell_type": "code",
   "execution_count": 10,
   "metadata": {},
   "outputs": [],
   "source": [
    "# source: https://github.com/aloctavodia/BAP/blob/master/first_edition/code/Chp1/hpd.py\n",
    "# licensed: https://github.com/aloctavodia/BAP/blob/master/LICENSE\n",
    "\n",
    "def hpd_grid(sample, alpha=0.05, roundto=2):\n",
    "    \"\"\"Calculate highest posterior density (HPD) of array for given alpha. \n",
    "    The HPD is the minimum width Bayesian credible interval (BCI). \n",
    "    The function works for multimodal distributions, returning more than one mode\n",
    "    Parameters\n",
    "    ----------\n",
    "    \n",
    "    sample : Numpy array or python list\n",
    "        An array containing MCMC samples\n",
    "    alpha : float\n",
    "        Desired probability of type I error (defaults to 0.05)\n",
    "    roundto: integer\n",
    "        Number of digits after the decimal point for the results\n",
    "    Returns\n",
    "    ----------\n",
    "    hpd: array with the lower \n",
    "          \n",
    "    \"\"\"\n",
    "    sample = np.asarray(sample)\n",
    "    sample = sample[~np.isnan(sample)]\n",
    "    # get upper and lower bounds\n",
    "    l = np.min(sample)\n",
    "    u = np.max(sample)\n",
    "    density = kde.gaussian_kde(sample)\n",
    "    x = np.linspace(l, u, 2000)\n",
    "    y = density.evaluate(x)\n",
    "    #y = density.evaluate(x, l, u) waitting for PR to be accepted\n",
    "    xy_zipped = zip(x, y/np.sum(y))\n",
    "    xy = sorted(xy_zipped, key=lambda x: x[1], reverse=True)\n",
    "    xy_cum_sum = 0\n",
    "    hdv = []\n",
    "    for val in xy:\n",
    "        xy_cum_sum += val[1]\n",
    "        hdv.append(val[0])\n",
    "        if xy_cum_sum >= (1-alpha):\n",
    "            break\n",
    "    hdv.sort()\n",
    "    diff = (u-l)/20  # differences of 5%\n",
    "    hpd = []\n",
    "    hpd.append(round(min(hdv), roundto))\n",
    "    for i in range(1, len(hdv)):\n",
    "        if hdv[i]-hdv[i-1] >= diff:\n",
    "            hpd.append(round(hdv[i-1], roundto))\n",
    "            hpd.append(round(hdv[i], roundto))\n",
    "    hpd.append(round(max(hdv), roundto))\n",
    "    ite = iter(hpd)\n",
    "    hpd = list(zip(ite, ite))\n",
    "    modes = []\n",
    "    for value in hpd:\n",
    "         x_hpd = x[(x > value[0]) & (x < value[1])]\n",
    "         y_hpd = y[(x > value[0]) & (x < value[1])]\n",
    "         modes.append(round(x_hpd[np.argmax(y_hpd)], roundto))\n",
    "    return hpd, x, y, modes"
   ]
  },
  {
   "cell_type": "code",
   "execution_count": 11,
   "metadata": {},
   "outputs": [
    {
     "data": {
      "text/plain": [
       "[(0.59, 0.65)]"
      ]
     },
     "execution_count": 11,
     "metadata": {},
     "output_type": "execute_result"
    }
   ],
   "source": [
    "hpd_grid(posterior_simulations, 0.1)[0]"
   ]
  },
  {
   "cell_type": "markdown",
   "metadata": {
    "colab_type": "text",
    "id": "pSFfXqFzY6rt"
   },
   "source": [
    "## Get approximate Bayesian inference for Pyro and stochatisc variational inference"
   ]
  },
  {
   "cell_type": "code",
   "execution_count": 12,
   "metadata": {
    "colab": {},
    "colab_type": "code",
    "id": "3OEK2MFJUvEx"
   },
   "outputs": [],
   "source": [
    "def model(y_tensor):\n",
    "    prior_dist = dist.Beta(torch.Tensor([.5]), torch.Tensor([.5]))\n",
    "    theta = pyro.sample('theta', prior_dist)\n",
    "    with pyro.plate('observe_data'):\n",
    "        pyro.sample('obs', dist.Bernoulli(theta), obs=y_tensor)\n",
    "\n",
    "def guide(y_tensor):\n",
    "    alpha = pyro.param(\"alpha\", torch.Tensor([1.0]),\n",
    "                       constraint=constraints.positive)\n",
    "    beta = pyro.param(\"beta\", torch.Tensor([1.0]),\n",
    "                       constraint=constraints.positive)\n",
    "    theta = pyro.sample('theta', dist.Beta(alpha, beta))"
   ]
  },
  {
   "cell_type": "code",
   "execution_count": 73,
   "metadata": {
    "colab": {},
    "colab_type": "code",
    "id": "yHyBUAE9ax1R"
   },
   "outputs": [],
   "source": [
    "# set up the optimizer\n",
    "pyro.clear_param_store()\n",
    "adam_params = {\"lr\": 0.2, \"betas\": (0.90, 0.999)}\n",
    "optimizer = Adam(adam_params)\n",
    "\n",
    "# setup the inference algorithm\n",
    "svi = SVI(model, guide, optimizer, loss=Trace_ELBO())\n",
    "\n",
    "n_steps = 100\n",
    "# do gradient steps\n",
    "for step in range(n_steps):\n",
    "    svi.step(y_tensor)"
   ]
  },
  {
   "cell_type": "code",
   "execution_count": 14,
   "metadata": {
    "colab": {
     "base_uri": "https://localhost:8080/",
     "height": 388
    },
    "colab_type": "code",
    "id": "2il2SgT5aumi",
    "outputId": "96e78127-5320-41f6-97c7-31be5667d1ca"
   },
   "outputs": [
    {
     "name": "stdout",
     "output_type": "stream",
     "text": [
      "Some samples: [0.77695346 0.57421271 0.69614649 0.45862063 0.55550441 0.72473446]\n",
      "Mean: 0.6061601060480146\n",
      "Standard deviation: 0.11371195167755946\n",
      "--------------------------------------------------\n",
      "P(Y=0|D) = 0.382\n",
      "P(Y=1|D) = 0.618\n",
      "--------------------------------------------------\n",
      "90% HPD for theta:  [(0.42, 0.8)]\n"
     ]
    },
    {
     "data": {
      "image/png": "[encoded data removed]",
      "text/plain": [
       "<Figure size 432x288 with 1 Axes>"
      ]
     },
     "metadata": {
      "needs_background": "light"
     },
     "output_type": "display_data"
    }
   ],
   "source": [
    "alpha = pyro.param(\"alpha\").item()\n",
    "beta = pyro.param(\"beta\").item()\n",
    "    \n",
    "inf_distribution = stats.beta(alpha, beta)\n",
    "print(\"Some samples:\", inf_distribution.rvs(6))\n",
    "print(\"Mean:\", inf_distribution.mean())\n",
    "print(\"Standard deviation:\", inf_distribution.std())\n",
    "\n",
    "# Plot the posterior\n",
    "x_svi = np.linspace(0, 1, 10000)\n",
    "y_svi = inf_distribution.pdf(x_svi)\n",
    "plt.plot(x_svi, y_svi)\n",
    "\n",
    "replications = stats.bernoulli.rvs(inf_distribution.rvs(1000))\n",
    "print(\"-\"*50)\n",
    "print(\"P(Y=0|D) =\", (replications == 0).mean())\n",
    "print(\"P(Y=1|D) =\", (replications == 1).mean())\n",
    "\n",
    "print(\"-\"*50)\n",
    "print(\"90% HPD for theta: \", hpd_grid(inf_distribution.rvs(10000), 0.1)[0])"
   ]
  },
  {
   "cell_type": "markdown",
   "metadata": {
    "colab_type": "text",
    "id": "Skv0GLRriN5m"
   },
   "source": [
    "## Using GPU and data subsampling with Pyro "
   ]
  },
  {
   "cell_type": "code",
   "execution_count": 84,
   "metadata": {
    "colab": {},
    "colab_type": "code",
    "id": "eHr1j4ZeiSXa"
   },
   "outputs": [
    {
     "ename": "RuntimeError",
     "evalue": "CUDA error: unspecified launch failure",
     "output_type": "error",
     "traceback": [
      "\u001b[0;31m---------------------------------------------------------------------------\u001b[0m",
      "\u001b[0;31mRuntimeError\u001b[0m                              Traceback (most recent call last)",
      "\u001b[0;32m<ipython-input-84-c43bf1d1b13c>\u001b[0m in \u001b[0;36m<module>\u001b[0;34m\u001b[0m\n\u001b[1;32m      5\u001b[0m \u001b[0mn2\u001b[0m \u001b[0;34m=\u001b[0m \u001b[0;36m10000\u001b[0m\u001b[0;34m\u001b[0m\u001b[0;34m\u001b[0m\u001b[0m\n\u001b[1;32m      6\u001b[0m \u001b[0my2\u001b[0m \u001b[0;34m=\u001b[0m \u001b[0mstats\u001b[0m\u001b[0;34m.\u001b[0m\u001b[0mnorm\u001b[0m\u001b[0;34m.\u001b[0m\u001b[0mrvs\u001b[0m\u001b[0;34m(\u001b[0m\u001b[0mmu\u001b[0m\u001b[0;34m,\u001b[0m \u001b[0msigma\u001b[0m\u001b[0;34m,\u001b[0m \u001b[0msize\u001b[0m\u001b[0;34m=\u001b[0m\u001b[0mn2\u001b[0m\u001b[0;34m)\u001b[0m\u001b[0;34m\u001b[0m\u001b[0;34m\u001b[0m\u001b[0m\n\u001b[0;32m----> 7\u001b[0;31m \u001b[0my2_tensor\u001b[0m \u001b[0;34m=\u001b[0m \u001b[0mtorch\u001b[0m\u001b[0;34m.\u001b[0m\u001b[0mas_tensor\u001b[0m\u001b[0;34m(\u001b[0m\u001b[0my2\u001b[0m\u001b[0;34m,\u001b[0m \u001b[0mdtype\u001b[0m\u001b[0;34m=\u001b[0m\u001b[0mtorch\u001b[0m\u001b[0;34m.\u001b[0m\u001b[0mfloat32\u001b[0m\u001b[0;34m)\u001b[0m\u001b[0;34m.\u001b[0m\u001b[0mcuda\u001b[0m\u001b[0;34m(\u001b[0m\u001b[0;34m)\u001b[0m\u001b[0;34m\u001b[0m\u001b[0;34m\u001b[0m\u001b[0m\n\u001b[0m",
      "\u001b[0;31mRuntimeError\u001b[0m: CUDA error: unspecified launch failure"
     ]
    }
   ],
   "source": [
    "# Setup some data for another model\n",
    "mu = -0.6\n",
    "sigma = 1.8\n",
    "\n",
    "n2 = 10000\n",
    "y2 = stats.norm.rvs(mu, sigma, size=n2)\n",
    "y2_tensor = torch.as_tensor(y2, dtype=torch.float32).cuda()"
   ]
  },
  {
   "cell_type": "code",
   "execution_count": 16,
   "metadata": {
    "colab": {},
    "colab_type": "code",
    "id": "eT_xpEVMiffT"
   },
   "outputs": [],
   "source": [
    "def model(y2_tensor):\n",
    "    # Priors:\n",
    "    prior_dist_mu = dist.Normal(torch.Tensor([0.]).cuda(),\n",
    "                                torch.Tensor([1.]).cuda())\n",
    "    mu = pyro.sample('mu', prior_dist_mu)\n",
    "    \n",
    "    prior_dist_sigma = dist.Gamma(torch.Tensor([1.]).cuda(),\n",
    "                                  torch.Tensor([1.]).cuda())\n",
    "    sigma = pyro.sample('sigma', prior_dist_sigma)\n",
    "    \n",
    "    # Likelihood:\n",
    "    with pyro.plate('observe_data', size=len(y2_tensor),\n",
    "        subsample_size=5000, use_cuda=True) as ind:\n",
    "        pyro.sample('obs', dist.Normal(mu, sigma),\n",
    "            obs=y2_tensor.index_select(0, ind))\n",
    "        \n",
    "\n",
    "def guide(y2_tensor):\n",
    "    alpha_mu = pyro.param(\"alpha_mu\", torch.Tensor([0.0]).cuda())\n",
    "    beta_mu = pyro.param(\"beta_mu\", torch.Tensor([3.0]).cuda(),\n",
    "        constraint=constraints.positive)\n",
    "    mu = pyro.sample('mu', dist.Normal(alpha_mu, beta_mu))\n",
    "\n",
    "    alpha_sigma = pyro.param(\"alpha_sigma\", torch.Tensor([1.0]).cuda(),\n",
    "        constraint=constraints.positive)\n",
    "    beta_sigma = pyro.param(\"beta_sigma\", torch.Tensor([1.0]).cuda(),\n",
    "        constraint=constraints.positive)\n",
    "    sigma = pyro.sample('sigma', dist.Gamma(alpha_sigma, beta_sigma))"
   ]
  },
  {
   "cell_type": "code",
   "execution_count": 17,
   "metadata": {
    "colab": {},
    "colab_type": "code",
    "id": "HDEiFzsFkyPO"
   },
   "outputs": [],
   "source": [
    "# set up the optimizer\n",
    "pyro.clear_param_store()\n",
    "adam_params = {\"lr\": 0.2, \"betas\": (0.90, 0.999)}\n",
    "optimizer = Adam(adam_params)\n",
    "\n",
    "# setup the inference algorithm\n",
    "svi = SVI(model, guide, optimizer, loss=Trace_ELBO())\n",
    "\n",
    "n_steps = 10\n",
    "# do gradient steps\n",
    "for step in range(n_steps):\n",
    "    svi.step(y2_tensor)"
   ]
  },
  {
   "cell_type": "code",
   "execution_count": 18,
   "metadata": {
    "colab": {
     "base_uri": "https://localhost:8080/",
     "height": 286
    },
    "colab_type": "code",
    "id": "fiq-YmJdmOU4",
    "outputId": "18540fd2-4e24-40f7-f081-a3cf9584539b"
   },
   "outputs": [],
   "source": [
    "# Generate replications\n",
    "no_replications = 10_000\n",
    "\n",
    "alpha_mu = pyro.param(\"alpha_mu\").item()\n",
    "beta_mu = pyro.param(\"beta_mu\").item()\n",
    "alpha_sigma = pyro.param(\"alpha_sigma\").item()\n",
    "beta_sigma = pyro.param(\"beta_sigma\").item()\n",
    "    \n",
    "mu_distribution = stats.norm(alpha_mu, beta)\n",
    "sigma_distribution = stats.gamma(alpha_sigma, beta_sigma)\n",
    "\n",
    "mu_samples = mu_distribution.rvs(no_replications)\n",
    "sigma_samples = sigma_distribution.rvs(no_replications)\n",
    "\n",
    "data_replications = stats.norm(mu_samples, sigma_samples).rvs()"
   ]
  },
  {
   "cell_type": "code",
   "execution_count": 24,
   "metadata": {},
   "outputs": [
    {
     "name": "stdout",
     "output_type": "stream",
     "text": [
      "P(X \\in I | D) = 0.90, where\n",
      "I = [(-14.02, 13.8)]\n"
     ]
    }
   ],
   "source": [
    "# HDP interval for new data\n",
    "print(\"P(X \\in I | D) = 0.90, where\\nI =\", hpd_grid(data_replications, 0.1)[0])"
   ]
  },
  {
   "cell_type": "code",
   "execution_count": 19,
   "metadata": {},
   "outputs": [
    {
     "data": {
      "text/plain": [
       "[<matplotlib.lines.Line2D at 0x7f6777453650>]"
      ]
     },
     "execution_count": 19,
     "metadata": {},
     "output_type": "execute_result"
    },
    {
     "data": {
      "image/png": "[encoded data removed]",
      "text/plain": [
       "<Figure size 432x288 with 1 Axes>"
      ]
     },
     "metadata": {
      "needs_background": "light"
     },
     "output_type": "display_data"
    }
   ],
   "source": [
    "# Density estimation using KDE (with tuning parameter chosen by data splitting)\n",
    "cv = ShuffleSplit(n_splits=1, test_size=0.1, random_state=0)\n",
    "params_for_kde_cv = {'bandwidth': np.logspace(-2, 3, 10)}\n",
    "grid = GridSearchCV(KernelDensity(), params_for_kde_cv, cv=cv)\n",
    "grid.fit(data_replications.reshape(-1, 1))\n",
    "x_kde = np.linspace(-20, 20, 10000).reshape(-1, 1)\n",
    "y_kde = np.exp(grid.best_estimator_.score_samples(x_kde))\n",
    "plt.plot(x_kde, y_kde)"
   ]
  },
  {
   "cell_type": "markdown",
   "metadata": {
    "colab_type": "text",
    "id": "rA1jNJOJ92fu"
   },
   "source": [
    "## Variational autoencoders"
   ]
  },
  {
   "cell_type": "code",
   "execution_count": 20,
   "metadata": {
    "colab": {},
    "colab_type": "code",
    "id": "lk1-rqM-HiCu"
   },
   "outputs": [],
   "source": [
    "# define the PyTorch module that parameterizes the\n",
    "# diagonal gaussian distribution q(z|x)\n",
    "class Encoder(nn.Module):\n",
    "    def __init__(self, z_dim, hidden_dim, input_dim):\n",
    "        super(Encoder, self).__init__()\n",
    "        # setup the three linear transformations used\n",
    "        self.fc1 = nn.Linear(input_dim, hidden_dim)\n",
    "        self.fc21 = nn.Linear(hidden_dim, z_dim)\n",
    "        self.fc22 = nn.Linear(hidden_dim, z_dim)\n",
    "        # setup the non-linearities\n",
    "        self.softplus = nn.Softplus()\n",
    "\n",
    "    def forward(self, x):\n",
    "        # then compute the hidden units\n",
    "        hidden = self.softplus(self.fc1(x))\n",
    "        # then return a mean vector and a (positive) square root covariance\n",
    "        # each of size batch_size x z_dim\n",
    "        z_loc = self.fc21(hidden)\n",
    "        z_scale = torch.exp(self.fc22(hidden))\n",
    "        return z_loc, z_scale\n",
    "\n",
    "\n",
    "# define the PyTorch module that parameterizes the\n",
    "# observation likelihood p(x|z)\n",
    "class Decoder(nn.Module):\n",
    "    def __init__(self, z_dim, hidden_dim, input_dim):\n",
    "        super(Decoder, self).__init__()\n",
    "        # setup the two linear transformations used\n",
    "        self.fc1 = nn.Linear(z_dim, hidden_dim)\n",
    "        self.fc21 = nn.Linear(hidden_dim, input_dim)\n",
    "        self.fc22 = nn.Linear(hidden_dim, input_dim)\n",
    "        # setup the non-linearities\n",
    "        self.softplus = nn.Softplus()\n",
    "\n",
    "    def forward(self, z):\n",
    "        # define the forward computation on the latent z\n",
    "        # first compute the hidden units\n",
    "        hidden = self.softplus(self.fc1(z))\n",
    "        \n",
    "        mu = self.fc21(hidden)\n",
    "        sigma = torch.exp(self.fc22(hidden))\n",
    "        return mu, sigma\n",
    "\n",
    "\n",
    "# define a PyTorch module for the VAE\n",
    "class VAE(nn.Module):\n",
    "    # by default our latent space is 50-dimensional\n",
    "    # and we use 400 hidden units\n",
    "    def __init__(self, input_dim,\n",
    "        z_dim=50, hidden_dim=400, use_cuda=False):\n",
    "        super(VAE, self).__init__()\n",
    "        # create the encoder and decoder networks\n",
    "        self.encoder = Encoder(z_dim, hidden_dim, input_dim=input_dim)\n",
    "        self.decoder = Decoder(z_dim, hidden_dim, input_dim=input_dim)\n",
    "\n",
    "        if use_cuda:\n",
    "            # calling cuda() here will put all the parameters of\n",
    "            # the encoder and decoder networks into gpu memory\n",
    "            self.cuda()\n",
    "        self.use_cuda = use_cuda\n",
    "        self.z_dim = z_dim\n",
    "\n",
    "    # define the model p(x|z)p(z)\n",
    "    def model(self, x):\n",
    "        # register PyTorch module `decoder` with Pyro\n",
    "        pyro.module(\"decoder\", self.decoder)\n",
    "        with pyro.plate(\"data\", x.shape[0]):\n",
    "            # setup hyperparameters for prior p(z)\n",
    "            z_loc = torch.zeros(x.shape[0], self.z_dim, dtype=x.dtype, device=x.device)\n",
    "            z_scale = torch.ones(x.shape[0], self.z_dim, dtype=x.dtype, device=x.device)\n",
    "            # sample from prior (value will be sampled by guide when computing the ELBO)\n",
    "            z = pyro.sample(\"latent\", dist.Normal(z_loc, z_scale).to_event(1))\n",
    "            # decode the latent code z\n",
    "            mu, sigma = self.decoder.forward(z)\n",
    "            # score against actual images\n",
    "            pyro.sample(\"obs\", dist.Normal(mu, sigma).to_event(1), obs=x)\n",
    "            # return the loc so we can visualize it later\n",
    "            #return loc_img\n",
    "\n",
    "    # define the guide (i.e. variational distribution) q(z|x)\n",
    "    def guide(self, x):\n",
    "        # register PyTorch module `encoder` with Pyro\n",
    "        pyro.module(\"encoder\", self.encoder)\n",
    "        with pyro.plate(\"data\", x.shape[0]):\n",
    "            # use the encoder to get the parameters used to define q(z|x)\n",
    "            z_loc, z_scale = self.encoder.forward(x)\n",
    "            # sample the latent code z\n",
    "            pyro.sample(\"latent\", dist.Normal(z_loc, z_scale).to_event(1))\n",
    "\n",
    "    # define a helper function for reconstructing images\n",
    "    def reconstruct_img(self, x):\n",
    "        # encode image x\n",
    "        z_loc, z_scale = self.encoder(x)\n",
    "        # sample in latent space\n",
    "        z = dist.Normal(z_loc, z_scale).sample()\n",
    "        # decode the image (note we don't sample in image space)\n",
    "        loc_img = self.decoder(z)\n",
    "        return loc_img\n",
    "      \n",
    "    def new_instances(self, size=1):\n",
    "         z = stats.norm.rvs(size=(size, self.z_dim))\n",
    "         mu, sigma = self.decoder.forward(torch.as_tensor(z,\n",
    "             device=torch.device('cuda'), dtype=torch.float32))\n",
    "         return stats.norm.rvs(mu.data.cpu().numpy(), sigma.data.cpu().numpy())"
   ]
  },
  {
   "cell_type": "code",
   "execution_count": 21,
   "metadata": {
    "colab": {
     "base_uri": "https://localhost:8080/",
     "height": 187
    },
    "colab_type": "code",
    "id": "6wQWH15L91jW",
    "outputId": "647789c1-5973-42a9-daab-77246a6af4e4"
   },
   "outputs": [
    {
     "name": "stdout",
     "output_type": "stream",
     "text": [
      "[epoch 000]  average training loss: 20.3445\n",
      "[epoch 010]  average training loss: 5.2740\n",
      "[epoch 020]  average training loss: 5.1878\n",
      "[epoch 030]  average training loss: 4.9342\n",
      "[epoch 040]  average training loss: 4.7884\n",
      "[epoch 050]  average training loss: 4.7438\n",
      "[epoch 060]  average training loss: 4.7570\n",
      "[epoch 070]  average training loss: 4.7772\n",
      "[epoch 080]  average training loss: 4.7337\n",
      "[epoch 090]  average training loss: 4.7261\n"
     ]
    }
   ],
   "source": [
    "# clear param store\n",
    "pyro.clear_param_store()\n",
    "\n",
    "no_instances = 20000\n",
    "input_dim = 3\n",
    "mu = stats.norm.rvs(size=input_dim)\n",
    "\n",
    "# Generate a positive definite matrix\n",
    "sigma = stats.norm.rvs(size=(input_dim, input_dim))\n",
    "sigma[np.triu_indices(input_dim)] = 0\n",
    "sigma += np.diag(np.abs(stats.norm.rvs(size=input_dim)))\n",
    "sigma = np.matmul(sigma.transpose(), sigma) # inverse cholesky decomposition\n",
    "\n",
    "dataset = stats.multivariate_normal.rvs(mu, sigma, size=no_instances)\n",
    "dataset = torch.as_tensor(dataset, dtype=torch.float32)\n",
    "dataset = TensorDataset(dataset)\n",
    "train_loader = DataLoader(dataset, batch_size=1000, shuffle=True,\n",
    "     num_workers=1, pin_memory=True, drop_last=False)\n",
    "\n",
    "# setup the VAE\n",
    "vae = VAE(use_cuda=True, input_dim=input_dim)\n",
    "\n",
    "adam_args = {\"lr\": 0.001}\n",
    "optimizer = Adam(adam_args)\n",
    "\n",
    "# setup the inference algorithm\n",
    "svi = SVI(vae.model, vae.guide, optimizer, loss=Trace_ELBO())\n",
    "\n",
    "train_elbo = []\n",
    "for epoch in range(100):\n",
    "    # initialize loss accumulator\n",
    "    epoch_loss = 0.\n",
    "    # do a training epoch over each mini-batch x returned\n",
    "    # by the data loader\n",
    "    for x, in train_loader:\n",
    "        x = x.cuda()\n",
    "        epoch_loss += svi.step(x)\n",
    "\n",
    "    # report training diagnostics\n",
    "    if not epoch % 10:\n",
    "        normalizer_train = len(train_loader.dataset)\n",
    "        total_epoch_loss_train = epoch_loss / normalizer_train\n",
    "        train_elbo.append(total_epoch_loss_train)\n",
    "        print(\"[epoch %03d]  average training loss: %.4f\" %\n",
    "             (epoch, total_epoch_loss_train))"
   ]
  },
  {
   "cell_type": "code",
   "execution_count": 22,
   "metadata": {
    "colab": {
     "base_uri": "https://localhost:8080/",
     "height": 238
    },
    "colab_type": "code",
    "id": "RgPXUrLyQSZv",
    "outputId": "d6adf493-c6c3-483e-9197-195805526f41"
   },
   "outputs": [
    {
     "ename": "RuntimeError",
     "evalue": "CUDA error: unspecified launch failure",
     "output_type": "error",
     "traceback": [
      "\u001b[0;31m---------------------------------------------------------------------------\u001b[0m",
      "\u001b[0;31mRuntimeError\u001b[0m                              Traceback (most recent call last)",
      "\u001b[0;32m<ipython-input-22-3bc6339d46ae>\u001b[0m in \u001b[0;36m<module>\u001b[0;34m\u001b[0m\n\u001b[1;32m      1\u001b[0m \u001b[0;31m# Generating new instances (replications) from the trained VAE\u001b[0m\u001b[0;34m\u001b[0m\u001b[0;34m\u001b[0m\u001b[0;34m\u001b[0m\u001b[0m\n\u001b[0;32m----> 2\u001b[0;31m \u001b[0mnew_instances\u001b[0m \u001b[0;34m=\u001b[0m \u001b[0mvae\u001b[0m\u001b[0;34m.\u001b[0m\u001b[0mnew_instances\u001b[0m\u001b[0;34m(\u001b[0m\u001b[0;36m100000\u001b[0m\u001b[0;34m)\u001b[0m\u001b[0;34m\u001b[0m\u001b[0;34m\u001b[0m\u001b[0m\n\u001b[0m\u001b[1;32m      3\u001b[0m \u001b[0;34m\u001b[0m\u001b[0m\n\u001b[1;32m      4\u001b[0m \u001b[0mprint\u001b[0m\u001b[0;34m(\u001b[0m\u001b[0;34m\"True means\"\u001b[0m\u001b[0;34m)\u001b[0m\u001b[0;34m\u001b[0m\u001b[0;34m\u001b[0m\u001b[0m\n\u001b[1;32m      5\u001b[0m \u001b[0mprint\u001b[0m\u001b[0;34m(\u001b[0m\u001b[0mmu\u001b[0m\u001b[0;34m)\u001b[0m\u001b[0;34m\u001b[0m\u001b[0;34m\u001b[0m\u001b[0m\n",
      "\u001b[0;32m<ipython-input-20-6148ed0ab6b9>\u001b[0m in \u001b[0;36mnew_instances\u001b[0;34m(self, size)\u001b[0m\n\u001b[1;32m    101\u001b[0m          \u001b[0mz\u001b[0m \u001b[0;34m=\u001b[0m \u001b[0mstats\u001b[0m\u001b[0;34m.\u001b[0m\u001b[0mnorm\u001b[0m\u001b[0;34m.\u001b[0m\u001b[0mrvs\u001b[0m\u001b[0;34m(\u001b[0m\u001b[0msize\u001b[0m\u001b[0;34m=\u001b[0m\u001b[0;34m(\u001b[0m\u001b[0msize\u001b[0m\u001b[0;34m,\u001b[0m \u001b[0mself\u001b[0m\u001b[0;34m.\u001b[0m\u001b[0mz_dim\u001b[0m\u001b[0;34m)\u001b[0m\u001b[0;34m)\u001b[0m\u001b[0;34m\u001b[0m\u001b[0;34m\u001b[0m\u001b[0m\n\u001b[1;32m    102\u001b[0m          mu, sigma = self.decoder.forward(torch.as_tensor(z,\n\u001b[0;32m--> 103\u001b[0;31m              device=torch.device('cuda'), dtype=torch.float32))\n\u001b[0m\u001b[1;32m    104\u001b[0m          \u001b[0;32mreturn\u001b[0m \u001b[0mstats\u001b[0m\u001b[0;34m.\u001b[0m\u001b[0mnorm\u001b[0m\u001b[0;34m.\u001b[0m\u001b[0mrvs\u001b[0m\u001b[0;34m(\u001b[0m\u001b[0mmu\u001b[0m\u001b[0;34m.\u001b[0m\u001b[0mdata\u001b[0m\u001b[0;34m.\u001b[0m\u001b[0mcpu\u001b[0m\u001b[0;34m(\u001b[0m\u001b[0;34m)\u001b[0m\u001b[0;34m.\u001b[0m\u001b[0mnumpy\u001b[0m\u001b[0;34m(\u001b[0m\u001b[0;34m)\u001b[0m\u001b[0;34m,\u001b[0m \u001b[0msigma\u001b[0m\u001b[0;34m.\u001b[0m\u001b[0mdata\u001b[0m\u001b[0;34m.\u001b[0m\u001b[0mcpu\u001b[0m\u001b[0;34m(\u001b[0m\u001b[0;34m)\u001b[0m\u001b[0;34m.\u001b[0m\u001b[0mnumpy\u001b[0m\u001b[0;34m(\u001b[0m\u001b[0;34m)\u001b[0m\u001b[0;34m)\u001b[0m\u001b[0;34m\u001b[0m\u001b[0;34m\u001b[0m\u001b[0m\n",
      "\u001b[0;31mRuntimeError\u001b[0m: CUDA error: unspecified launch failure"
     ]
    }
   ],
   "source": [
    "# Generating new instances (replications) from the trained VAE\n",
    "new_instances = vae.new_instances(100000)\n",
    "\n",
    "print(\"True means\")\n",
    "print(mu)\n",
    "print(\"Empirical means of replications:\")\n",
    "print(new_instances.mean(0))\n",
    "\n",
    "print(\"----------------------------------------\")\n",
    "\n",
    "print(\"True covariance matrix\")\n",
    "print(sigma)\n",
    "print(\"Empirical covariance matrix of replications:\")\n",
    "print(np.cov(new_instances, rowvar=False))"
   ]
  }
 ],
 "metadata": {
  "accelerator": "GPU",
  "colab": {
   "collapsed_sections": [],
   "name": "VAEs.ipynb",
   "provenance": [],
   "version": "0.3.2"
  },
  "kernelspec": {
   "display_name": "Python 3",
   "language": "python",
   "name": "python3"
  },
  "language_info": {
   "codemirror_mode": {
    "name": "ipython",
    "version": 3
   },
   "file_extension": ".py",
   "mimetype": "text/x-python",
   "name": "python",
   "nbconvert_exporter": "python",
   "pygments_lexer": "ipython3",
   "version": "3.7.10"
  }
 },
 "nbformat": 4,
 "nbformat_minor": 4
}
